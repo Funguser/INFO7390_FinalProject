{
 "cells": [
  {
   "cell_type": "code",
   "execution_count": 8,
   "metadata": {},
   "outputs": [],
   "source": [
    "import cv2\n",
    "import os\n",
    "from matplotlib import pyplot as plt\n",
    "import numpy as np\n",
    "\n",
    "%matplotlib inline"
   ]
  },
  {
   "cell_type": "code",
   "execution_count": 9,
   "metadata": {},
   "outputs": [
    {
     "data": {
      "text/plain": [
       "<matplotlib.image.AxesImage at 0x1104c7198>"
      ]
     },
     "execution_count": 9,
     "metadata": {},
     "output_type": "execute_result"
    },
    {
     "data": {
      "image/png": "[encoded data removed]",
      "text/plain": [
       "<matplotlib.figure.Figure at 0x11ac8ce10>"
      ]
     },
     "metadata": {},
     "output_type": "display_data"
    }
   ],
   "source": [
    "img = cv2.imread(\"0a0b2a01.jpg\")\n",
    "\n",
    "gray = cv2.cvtColor(img, cv2.COLOR_BGR2GRAY)\n",
    "\n",
    "gradX = cv2.Sobel(gray, ddepth=cv2.CV_32F, dx=1, dy=0, ksize=3)\n",
    "gradY = cv2.Sobel(gray, ddepth=cv2.CV_32F, dx=0, dy=1, ksize=3)\n",
    "\n",
    "            # subtract the y-gradient from the x-gradient\n",
    "gradient = cv2.subtract(gradX, gradY)\n",
    "gradient = cv2.convertScaleAbs(gradient)\n",
    "(_, thresh) = cv2.threshold(gradient, 100, 255, cv2.THRESH_BINARY)\n",
    "\n",
    "thresh = cv2.dilate(thresh, None, iterations=1)\n",
    "thresh = cv2.dilate(thresh, None, iterations=1)\n",
    "thresh = cv2.erode(thresh, None, iterations=1)\n",
    "thresh = cv2.erode(thresh, None, iterations=1)\n",
    "\n",
    "image, contours, hierarchy = cv2.findContours(thresh, cv2.RETR_TREE,\n",
    "                                                          cv2.CHAIN_APPROX_SIMPLE)  # use cv2.RETR_TREE to locate and lock the tail\n",
    "img = cv2.drawContours(img, contours, -1, (0, 255, 0), 5)\n",
    "    \n",
    "v = img.shape[0] # vertial pixels\n",
    "h = img.shape[1] # horizontal pixels \n",
    "h_factor = 2\n",
    "\n",
    "            #find edges with Canny algorism\n",
    "canny_edges = cv2.Canny(img,300,300)\n",
    "    \n",
    "if v < h/h_factor:\n",
    "    fill_length = int(abs(h/h_factor-v)*0.5)#np.random.rand()) # for upper filling\n",
    "    \n",
    "    fill = np.zeros(fill_length* h).reshape(fill_length, h) # black rectangle for upper filling\n",
    "\n",
    "    canny_edges = np.r_[fill,canny_edges,fill] # fill with black rectangle\n",
    "    img = np.r_[fill,img,fill] # fill with black rectangle\n",
    "    \n",
    "ver = int(h/h_factor)\n",
    "cnt = []\n",
    "for i in range(canny_edges.shape[0]-ver+2):\n",
    "    cnt.append(canny_edges[i:i+ver,:].sum()/255)\n",
    "\n",
    "cnt_arr = np.array(cnt)\n",
    "i = cnt_arr.argmax()\n",
    "\n",
    "canny_edges = cv2.Canny(img, 300, 300)\n",
    "plt.imshow(canny_edges)"
   ]
  },
  {
   "cell_type": "code",
   "execution_count": null,
   "metadata": {},
   "outputs": [],
   "source": []
  }
 ],
 "metadata": {
  "kernelspec": {
   "display_name": "Python 3",
   "language": "python",
   "name": "python3"
  },
  "language_info": {
   "codemirror_mode": {
    "name": "ipython",
    "version": 3
   },
   "file_extension": ".py",
   "mimetype": "text/x-python",
   "name": "python",
   "nbconvert_exporter": "python",
   "pygments_lexer": "ipython3",
   "version": "3.6.3"
  }
 },
 "nbformat": 4,
 "nbformat_minor": 2
}
